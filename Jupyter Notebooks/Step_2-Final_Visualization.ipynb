{
 "cells": [
  {
   "cell_type": "markdown",
   "id": "5c18585c-27d6-414c-92d7-11dade6ce2dc",
   "metadata": {},
   "source": [
    "# Intro Notes\n",
    "\n",
    "This notebook takes the two CSV files which were either provided or generated with the \"data-crunching\" notebook, and visualizes it in an interactive choropleth map.\n",
    "Please make sure that the file is located in the same folder as this notebook. Once you've verified this, make sure that the file name within the quotation marks below matches the filename, including the \".csv\" extension. Then, run the whole notebook. The notebook will generate an interactive in line with the code; in some cases, the notebook may generate a link to the interactive instead. "
   ]
  },
  {
   "cell_type": "code",
   "execution_count": 1,
   "id": "3911f5cf-0c1a-41a5-92ea-6ca0895246a4",
   "metadata": {},
   "outputs": [],
   "source": [
    "import pandas as pd\n",
    "from urllib.request import urlopen\n",
    "import plotly.express as px\n",
    "from dash import Dash, dcc, html, Input, Output\n",
    "import json"
   ]
  },
  {
   "cell_type": "code",
   "execution_count": 2,
   "id": "8385b61a-4346-414f-8ba3-2895139797f6",
   "metadata": {},
   "outputs": [],
   "source": [
    "df = pd.read_csv(\"priority_statistic_df.csv\", converters = {\"GEOID\":str})\n",
    "\n",
    "#These lists help define what risks are available within the data to visualize. \n",
    "names = [\"avalache_score\", \"coastal_flooding_score\", \"cold_wave_score\", \"drought_score\", \"earthquake_score\", \"hail_score\", \"heat_wave_score\", \"hurricane_score\", \n",
    "         \"ice_storm_score\", \"landslide_score\", \"lightning_score\", \"riverine_flooding_score\", \"strong_wind_score\", \"tornado_score\", \"tsunami_score\", \"volcano_score\", \n",
    "         \"wildfire_score\", \"winter_weather_score\"]\n",
    "labels = [\"Avalache\", \"Coastal Flooding\", \"Cold Wave\", \"Drought\", \"Earthquake\", \"Hail\", \"Heat Wave\", \"Hurricane\", \n",
    "         \"Ice Storm\", \"Landslide\", \"Lightning\", \"Riverine Flooding\", \"Strong Wind\", \"Tornado\", \"Tsunami\", \"Volcano\", \n",
    "         \"Wildfire\", \"Winter Weather\"]\n",
    "dict_names = dict(zip(names, labels))"
   ]
  },
  {
   "cell_type": "markdown",
   "id": "278f7301-a9ff-41d6-8f28-7e2b8c7cccdb",
   "metadata": {},
   "source": [
    "# Dash Interactive"
   ]
  },
  {
   "cell_type": "code",
   "execution_count": null,
   "id": "816e58bd-e3d8-40bf-a002-7d852c0fb86b",
   "metadata": {
    "tags": []
   },
   "outputs": [
    {
     "name": "stdout",
     "output_type": "stream",
     "text": [
      "Dash is running on http://127.0.0.1:8050/\n",
      "\n",
      " * Serving Flask app '__main__'\n",
      " * Debug mode: on\n"
     ]
    }
   ],
   "source": [
    "app = Dash(__name__)\n",
    "\n",
    "\n",
    "app.layout = html.Div([\n",
    "html.H2(\"Undermapped and At Risk Analysis\"),\n",
    "html.Div([\n",
    "    html.H4(\"Select a natural disaster:\"),\n",
    "    dcc.Dropdown(\n",
    "        id=\"disaster\", \n",
    "        options=\n",
    "        dict_names,\n",
    "        #inline=True,\n",
    "        value=\"hurricane_score\"\n",
    "    )],style={\"width\": \"25%\"}),\n",
    "    html.Div([\n",
    "    html.H4(\"Select your desired ratio:\"),\n",
    "    html.P(\"Selecting 0 will visualize only undermapped data, selecting 100 will visualize only risk data.\"),\n",
    "    dcc.Slider(min = 0, max = 100, step = 25, \n",
    "           value=75,\n",
    "           id=\"ratio\"\n",
    "    )]),\n",
    "\n",
    "    dcc.Graph(id=\"graph\", responsive = \"auto\"),\n",
    "],style = {\"font-family\":    [\"Arial\", \"Helvetica\", \"sans-serif\"]})\n",
    "\n",
    "with urlopen(\"https://raw.githubusercontent.com/plotly/datasets/master/geojson-counties-fips.json\") as response:\n",
    "    counties = json.load(response)\n",
    "    \n",
    "@app.callback(\n",
    "    Output(\"graph\", \"figure\"), \n",
    "    Input(\"disaster\", \"value\"),\n",
    "    Input(\"ratio\", \"value\"))\n",
    "\n",
    "def display_choropleth(disaster, ratio):\n",
    "    geojson = counties\n",
    "    filtered_df = df[df.ratio == ratio]\n",
    "    fig = px.choropleth(filtered_df, geojson=counties, locations=\"GEOID\", color=disaster,\n",
    "                    color_continuous_scale=\"Bluyl\",\n",
    "                    range_color=(0, 100),\n",
    "                    scope=\"usa\",\n",
    "                    labels={disaster:\"Combined Risk Score\", \"GEOID\":\"Fips Code\", \"COUNTY\":\"County\",\"STATE\":\"State\"},\n",
    "                    hover_data=[\"NAMELSAD\",\"STATE_NAME\"]\n",
    "                          )\n",
    "    #fig.update_geos(fitbounds=\"locations\", visible=True, center={\"lon\":50, \"lat\":-95})\n",
    "    fig.update_layout(margin={\"r\":0,\"t\":0,\"l\":0,\"b\":0})\n",
    "    return fig\n",
    "\n",
    "\n",
    "app.run_server(debug=True, use_reloader=False)"
   ]
  }
 ],
 "metadata": {
  "kernelspec": {
   "display_name": "Python 3 (ipykernel)",
   "language": "python",
   "name": "python3"
  },
  "language_info": {
   "codemirror_mode": {
    "name": "ipython",
    "version": 3
   },
   "file_extension": ".py",
   "mimetype": "text/x-python",
   "name": "python",
   "nbconvert_exporter": "python",
   "pygments_lexer": "ipython3",
   "version": "3.9.7"
  }
 },
 "nbformat": 4,
 "nbformat_minor": 5
}
